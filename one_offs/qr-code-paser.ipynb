{
 "cells": [
  {
   "cell_type": "code",
   "execution_count": null,
   "metadata": {},
   "outputs": [],
   "source": [
    "# Configurations for playbook\n",
    "CURR_DIRECTORY = '' # Directory to look for emails"
   ]
  },
  {
   "cell_type": "code",
   "execution_count": null,
   "metadata": {},
   "outputs": [],
   "source": [
    "import sys\n",
    "!{sys.executable} -m pip install python-magic\n",
    "!{sys.executable} -m pip install opencv-python"
   ]
  },
  {
   "cell_type": "code",
   "execution_count": null,
   "metadata": {},
   "outputs": [],
   "source": [
    "import os\n",
    "import email\n",
    "import cv2\n",
    "import magic\n",
    "# Please run 'brew install libmagic' in terminal."
   ]
  },
  {
   "cell_type": "code",
   "execution_count": null,
   "metadata": {},
   "outputs": [],
   "source": [
    "try:\n",
    "   os.makedirs('emls_to_parse/raw_emls/')\n",
    "except OSError as err:\n",
    "   print(err)\n",
    "\n",
    "listOfEmls = os.listdir(CURR_DIRECTORY + 'emls_to_parse/raw_emls')\n",
    "# Add the .eml files to this path above."
   ]
  },
  {
   "cell_type": "code",
   "execution_count": null,
   "metadata": {},
   "outputs": [],
   "source": [
    "def mime_flagchecks(file_path):\n",
    "    return 'image' in magic.from_file(file_path, mime=True)"
   ]
  },
  {
   "cell_type": "code",
   "execution_count": null,
   "metadata": {},
   "outputs": [],
   "source": [
    "def get_qr_code(file_path, eml):\n",
    "    image = cv2.imread(file_path)\n",
    "    detector = cv2.QRCodeDetector()\n",
    "\n",
    "    path1 = f'{CURR_DIRECTORY}/emls_to_parse/eml_qr_urls.csv'\n",
    "    path2 = f'{CURR_DIRECTORY}/emls_to_parse/eml_qr_error.csv'\n",
    "\n",
    "    with open(path1, 'a') as f_qr_urls, open(path2, mode=\"a\") as f_errored:\n",
    "        try:\n",
    "            url, vertices_array, binary_qrcode = detector.detectAndDecode(image)\n",
    "            if vertices_array is not None:\n",
    "                f_qr_urls.write(eml + \", \" + url + '\\n')\n",
    "            else:\n",
    "                f_errored.write(eml + \", \" + \"Errored at vertices_array\" + '\\n')\n",
    "        except:\n",
    "            f_errored.write(eml + \", \" + \"Errored at CV detectAndDecode\" + '\\n')\n",
    "\n",
    "    f_errored.close()\n",
    "    f_qr_urls.close()"
   ]
  },
  {
   "cell_type": "code",
   "execution_count": null,
   "metadata": {},
   "outputs": [],
   "source": [
    "for eml in listOfEmls:\n",
    "\n",
    "    current_file = os.path.join(CURR_DIRECTORY, 'emls_to_parse/raw_emls/', eml)\n",
    "\n",
    "    with open(current_file, 'rb') as f:\n",
    "\n",
    "        msg = email.message_from_binary_file(f)\n",
    "\n",
    "        for part in msg.walk():\n",
    "            fileName = part.get_filename()\n",
    "\n",
    "            content = part.get_payload(decode=True)\n",
    "            if content:\n",
    "                extraction_path = CURR_DIRECTORY + 'emls_to_parse/tmp_image'\n",
    "                with open(extraction_path, 'wb') as save_attachment:\n",
    "                    save_attachment.write(content)\n",
    "                save_attachment.close()\n",
    "\n",
    "                flag = mime_flagchecks(extraction_path)\n",
    "\n",
    "                if flag:\n",
    "                    qr_url = get_qr_code(extraction_path, eml)\n",
    "\n",
    "    f.close()"
   ]
  }
 ],
 "metadata": {
  "kernelspec": {
   "display_name": ".venv",
   "language": "python",
   "name": "python3"
  },
  "language_info": {
   "codemirror_mode": {
    "name": "ipython",
    "version": 3
   },
   "file_extension": ".py",
   "mimetype": "text/x-python",
   "name": "python",
   "nbconvert_exporter": "python",
   "pygments_lexer": "ipython3",
   "version": "3.11.5"
  },
  "orig_nbformat": 4
 },
 "nbformat": 4,
 "nbformat_minor": 2
}
