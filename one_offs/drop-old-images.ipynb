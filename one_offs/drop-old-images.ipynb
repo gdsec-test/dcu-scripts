{
 "cells": [
  {
   "cell_type": "code",
   "execution_count": null,
   "metadata": {},
   "outputs": [],
   "source": [
    "# Install a pip package in the current Jupyter kernel\n",
    "import sys\n",
    "!{sys.executable} -m pip install pymongo"
   ]
  },
  {
   "cell_type": "code",
   "execution_count": null,
   "metadata": {},
   "outputs": [],
   "source": [
    "from pymongo import MongoClient, ASCENDING\n",
    "import gridfs\n",
    "\n",
    "mongo_client = MongoClient('')\n",
    "db = mongo_client['phishstory']\n",
    "grid = gridfs.GridFS(db)"
   ]
  },
  {
   "cell_type": "code",
   "execution_count": 6,
   "metadata": {},
   "outputs": [
    {
     "name": "stdout",
     "output_type": "stream",
     "text": [
      "3211747\n"
     ]
    }
   ],
   "source": [
    "from datetime import datetime\n",
    "i = 0\n",
    "find = {'uploadDate': {\"$lt\": datetime(year=2022, month=1, day=1)}}\n",
    "doc_count = db['fs.files'].count_documents(find)\n",
    "print(doc_count)\n",
    "\n",
    "while i < doc_count:\n",
    "    files = grid.find(find).sort([('uploadDate', ASCENDING)]).skip(i).limit(10000)\n",
    "    for f in files:\n",
    "        grid.delete(file_id=f._id)\n",
    "        i +=1\n",
    "print(i)"
   ]
  }
 ],
 "metadata": {
  "kernelspec": {
   "display_name": "Python 3.7.10 ('.venv': venv)",
   "language": "python",
   "name": "python3"
  },
  "language_info": {
   "codemirror_mode": {
    "name": "ipython",
    "version": 3
   },
   "file_extension": ".py",
   "mimetype": "text/x-python",
   "name": "python",
   "nbconvert_exporter": "python",
   "pygments_lexer": "ipython3",
   "version": "3.7.10"
  },
  "orig_nbformat": 4,
  "vscode": {
   "interpreter": {
    "hash": "b5331a78d2b22dfb116832088e545bec0fa244e8573f9fbc2ccbaaf9e2e5d329"
   }
  }
 },
 "nbformat": 4,
 "nbformat_minor": 2
}
