{
 "cells": [
  {
   "cell_type": "code",
   "execution_count": null,
   "metadata": {},
   "outputs": [],
   "source": [
    "# Install a pip package in the current Jupyter kernel\n",
    "import sys\n",
    "!{sys.executable} -m pip install pymongo csetutils aiohttp crm_notate"
   ]
  },
  {
   "cell_type": "code",
   "execution_count": null,
   "metadata": {},
   "outputs": [],
   "source": [
    "from pymongo import MongoClient\n",
    "\n",
    "mongo_client = MongoClient('')\n",
    "db = mongo_client['phishstory']\n",
    "collection = db['incidents']"
   ]
  },
  {
   "cell_type": "code",
   "execution_count": null,
   "metadata": {},
   "outputs": [],
   "source": [
    "import json\n",
    "\n",
    "close_reasons = ['shopper_compromise', 'intentionally_malicious']\n",
    "shoppers = dict()\n",
    "for reason in close_reasons:\n",
    "    domain_shoppers = collection.aggregate([\n",
    "        { '$match': {'phishstory_status': 'CLOSED', 'close_reason': reason}},\n",
    "        { '$group': { '_id': { 'shopper': '$data.domainQuery.shopperInfo.shopperId' } } }\n",
    "    ])\n",
    "    host_shoppers = collection.aggregate([\n",
    "        { '$match': {'phishstory_status': 'CLOSED', 'close_reason': reason}},\n",
    "        { '$group': { '_id': { 'shopper': '$data.domainQuery.host.shopperId' } } }\n",
    "    ])\n",
    "    i = 0\n",
    "    for ticket in domain_shoppers:\n",
    "        shoppers[ticket['_id']['shopper']] = reason\n",
    "    for ticket in host_shoppers:\n",
    "        shoppers[ticket['_id']['shopper']] = reason\n",
    "\n",
    "with open(f'shoppers.json', 'w') as out:\n",
    "    out.write(json.dumps(shoppers))\n"
   ]
  },
  {
   "cell_type": "code",
   "execution_count": null,
   "metadata": {},
   "outputs": [],
   "source": [
    "import json\n",
    "import requests\n",
    "\n",
    "with open(f'shoppers.json', 'r') as out:\n",
    "    shoppers = json.loads(out.read())\n",
    "\n",
    "cert =  ('test.crt', 'test.key')\n",
    "response = requests.post('https://sso.gdcorp.tools/v1/secure/api/token', data={'realm': 'cert'}, cert=cert)\n",
    "response.raise_for_status()\n",
    "body = response.json()\n",
    "jwt = body.get('data')\n",
    "\n",
    "shoppers_needing_locks = {}\n",
    "headers = {'Content-Type': 'application/json', 'Authorization': f'sso-jwt {jwt}'}\n",
    "i = 0\n",
    "total = len(shoppers)\n",
    "for shopper, reason in shoppers.items():\n",
    "    i += 1\n",
    "    r = requests.get(f'https://shoplocked.cset.int.gdcorp.tools/status/{shopper}', headers=headers)\n",
    "    if r.status_code in [401, 403]:\n",
    "        response = requests.post('https://sso.gdcorp.tools/v1/secure/api/token', data={'realm': 'cert'}, cert=cert)\n",
    "        response.raise_for_status()\n",
    "        body = response.json()\n",
    "        jwt = body.get('data')\n",
    "        headers = {'Content-Type': 'application/json', 'Authorization': f'sso-jwt {jwt}'}\n",
    "        r = requests.get(f'https://shoplocked.cset.int.gdcorp.tools/status/{shopper}', headers=headers)\n",
    "    res = r.json()\n",
    "    if 'message' in res and res['message'] == f'Unable to get lock status, Invalid shopper ID {shopper}':\n",
    "        pass\n",
    "    elif 'admin_lock' in res and res['admin_lock']:\n",
    "        shoppers_needing_locks[shopper] = reason\n",
    "    elif 'admin_lock' in res and not res['admin_lock']:\n",
    "        pass\n",
    "    else:\n",
    "        print(res)\n",
    "    if i % 100 == 0:\n",
    "        print(i)\n",
    "print(len(shoppers_needing_locks))\n",
    "with open(f'shoppers-filtered.json', 'w') as out:\n",
    "    out.write(json.dumps(shoppers_needing_locks))"
   ]
  },
  {
   "cell_type": "code",
   "execution_count": null,
   "metadata": {},
   "outputs": [],
   "source": [
    "blocklisted_domains = []\n",
    "with open(f'shoppers-filtered.json', 'r') as out:\n",
    "    shoppers = json.loads(out.read())\n",
    "post_filter = {}\n",
    "print(len(shoppers))\n",
    "for shopper, reason in shoppers.items():\n",
    "    if shopper not in blocklisted_domains:\n",
    "        post_filter[shopper] = reason\n",
    "print(len(post_filter))\n",
    "with open(f'shoppers-post-blocklist.json', 'w') as out:\n",
    "    out.write(json.dumps(post_filter))"
   ]
  },
  {
   "cell_type": "code",
   "execution_count": null,
   "metadata": {},
   "outputs": [],
   "source": [
    "import json\n",
    "from csetutils.services.sso import SSOClient, LockTeamIDs, LockType, Causes\n",
    "\n",
    "\n",
    "with open(f'shoppers-post-blocklist.json', 'r') as out:\n",
    "    shoppers = json.loads(out.read())\n",
    "\n",
    "client = SSOClient(\n",
    "    'https://sso.gdcorp.tools',\n",
    "    'test.crt',\n",
    "    'test.key', \n",
    "    'prod'\n",
    ")\n",
    "\n",
    "i = 0\n",
    "total = len(shoppers)\n",
    "for shopper, reason in shoppers.items():\n",
    "    i += 1\n",
    "    if reason == 'intentionally_malicious':\n",
    "        lock_type = LockType.adminTerminated\n",
    "        cause = Causes.Policy\n",
    "        team = LockTeamIDs.LtSecurity\n",
    "    else:\n",
    "        lock_type = LockType.adminCompromised\n",
    "        cause = Causes.Compromise\n",
    "        team = LockTeamIDs.LtCompromise\n",
    "\n",
    "    client.lock_idp(int(shopper), lock_type, cause, team, 'migrating shopper lock to new admin lock system', 'nwade')\n",
    "    if i % 200 == 0:\n",
    "        print(f'{i}/{total}')"
   ]
  },
  {
   "cell_type": "code",
   "execution_count": null,
   "metadata": {},
   "outputs": [],
   "source": [
    "import json\n",
    "import requests\n",
    "\n",
    "with open(f'shoppers-post-blocklist.json', 'r') as out:\n",
    "    shoppers = json.loads(out.read())\n",
    "\n",
    "cert =  ('test.crt', 'test.key')\n",
    "response = requests.post('https://sso.gdcorp.tools/v1/secure/api/token', data={'realm': 'cert'}, cert=cert)\n",
    "response.raise_for_status()\n",
    "body = response.json()\n",
    "jwt = body.get('data')\n",
    "headers = {'Content-Type': 'application/json', 'Authorization': f'sso-jwt {jwt}'}\n",
    "shoppers = [key for key, value in shoppers.items()]\n",
    "total = len(shoppers)\n",
    "for i in range(0, len(shoppers), 100):\n",
    "    payload = {\n",
    "        'creds': shoppers[i:i+100],\n",
    "        'note': 'migrating legacy shopper locks to new admin lock system',\n",
    "        'products': ['crm']\n",
    "    }\n",
    "    r = requests.post('https://shoplocked.cset.int.gdcorp.tools/unlockAdmin', json=payload, headers=headers, timeout=120)\n",
    "    if r.status_code in [401,  403]:\n",
    "        response = requests.post('https://sso.gdcorp.tools/v1/secure/api/token', data={'realm': 'cert'}, cert=cert)\n",
    "        response.raise_for_status()\n",
    "        body = response.json()\n",
    "        jwt = body.get('data')\n",
    "        headers = {'Content-Type': 'application/json', 'Authorization': f'sso-jwt {jwt}'}\n",
    "        r = requests.post('https://shoplocked.cset.int.gdcorp.tools/unlockAdmin', json=payload, headers=headers, timeout=120)\n",
    "    r.raise_for_status()\n",
    "    if i % 200 == 0:\n",
    "        print(f'{i}/{total}')\n",
    "        "
   ]
  }
 ],
 "metadata": {
  "kernelspec": {
   "display_name": ".venv",
   "language": "python",
   "name": "python3"
  },
  "language_info": {
   "codemirror_mode": {
    "name": "ipython",
    "version": 3
   },
   "file_extension": ".py",
   "mimetype": "text/x-python",
   "name": "python",
   "nbconvert_exporter": "python",
   "pygments_lexer": "ipython3",
   "version": "3.11.1"
  },
  "orig_nbformat": 4,
  "vscode": {
   "interpreter": {
    "hash": "b5331a78d2b22dfb116832088e545bec0fa244e8573f9fbc2ccbaaf9e2e5d329"
   }
  }
 },
 "nbformat": 4,
 "nbformat_minor": 2
}
