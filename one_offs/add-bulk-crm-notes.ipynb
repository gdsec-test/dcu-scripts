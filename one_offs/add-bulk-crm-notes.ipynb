{
 "cells": [
  {
   "cell_type": "code",
   "execution_count": null,
   "metadata": {},
   "outputs": [],
   "source": [
    "# Install a pip package in the current Jupyter kernel\n",
    "import sys\n",
    "!{sys.executable} -m pip install crm_notate"
   ]
  },
  {
   "cell_type": "code",
   "execution_count": null,
   "metadata": {},
   "outputs": [],
   "source": [
    "\n",
    "from crm_notate.message_factory import Message\n",
    "\n",
    "note = 'Following the recent FBI takedown of the Qakbot botnet, one or more email addresses have been added to a blocklist for hosting email relays. The customer needs to reset the password(s) on these accounts before support can use the email_bot !badacct command to un-restrict the account(s) ability to send email from the hosting environment. We are unsure how the email addresses were compromised, but we do know that this was not a GoDaddy compromise. For more information see secure.godaddy/qakbot'\n",
    "\n",
    "with open('shoppers.txt', 'r') as f:\n",
    "    for x in f:\n",
    "        x = x.strip()\n",
    "        print(f'Adding note for {x}')\n",
    "        shopperNotes = Message.factory(Message.WSCMS, 'prod', 'nwade')\n",
    "        shopperNotes.add_note(x, note, 'nwade')"
   ]
  }
 ],
 "metadata": {
  "kernelspec": {
   "display_name": ".venv",
   "language": "python",
   "name": "python3"
  },
  "language_info": {
   "codemirror_mode": {
    "name": "ipython",
    "version": 3
   },
   "file_extension": ".py",
   "mimetype": "text/x-python",
   "name": "python",
   "nbconvert_exporter": "python",
   "pygments_lexer": "ipython3",
   "version": "3.11.1"
  },
  "orig_nbformat": 4,
  "vscode": {
   "interpreter": {
    "hash": "b5331a78d2b22dfb116832088e545bec0fa244e8573f9fbc2ccbaaf9e2e5d329"
   }
  }
 },
 "nbformat": 4,
 "nbformat_minor": 2
}
